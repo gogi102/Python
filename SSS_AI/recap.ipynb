{
 "cells": [
  {
   "cell_type": "code",
   "execution_count": 5,
   "metadata": {},
   "outputs": [],
   "source": [
    "from langchain_openai import OpenAI, ChatOpenAI\n",
    "from langchain_core.callbacks import StreamingStdOutCallbackHandler\n",
    "\n",
    "llm = OpenAI() # text-davinch-003 => 이제 gpt-3로 바뀜\n",
    "chat = ChatOpenAI(\n",
    "    temperature=0.1,\n",
    "    streaming=True,\n",
    "    model=\"gpt-3.5-turbo\",\n",
    "    callbacks=[StreamingStdOutCallbackHandler()]\n",
    ") # 아직 gpt-3.5_turbo\n"
   ]
  },
  {
   "cell_type": "code",
   "execution_count": 3,
   "metadata": {},
   "outputs": [
    {
     "name": "stderr",
     "output_type": "stream",
     "text": [
      "c:\\Users\\User\\Desktop\\SSS_AII\\env\\Lib\\site-packages\\langchain_core\\_api\\deprecation.py:139: LangChainDeprecationWarning: The method `BaseChatModel.predict` was deprecated in langchain-core 0.1.7 and will be removed in 0.3.0. Use invoke instead.\n",
      "  warn_deprecated(\n"
     ]
    },
    {
     "data": {
      "text/plain": [
       "'플러터(Flutter)는 구글에서 개발한 오픈 소스 프레임워크로, 모바일 애플리케이션을 빠르고 쉽게 개발할 수 있도록 도와주는 도구입니다. 플러터는 하나의 코드베이스로 안드로이드와 iOS용 앱을 동시에 개발할 수 있도록 지원하며, 아름다운 UI를 만들기 위한 다양한 위젯과 머티리얼 디자인을 제공합니다.\\n\\n플러터는 다양한 기능과 라이브러리를 제공하여 개발자가 빠르게 애플리케이션을 개발할 수 있도록 도와줍니다. 또한, 핫 리로드 기능을 통해 코드 변경 사항을 즉시 확인할 수 있어 개발 속도를 높일 수 있습니다.\\n\\n또한, 플러터는 Dart 언어를 사용하여 개발되며, Dart는 간결하고 직관적인 문법을 가지고 있어 쉽게 배울 수 있습니다. 이러한 특징들로 인해 플러터는 많은 개발자들에게 사랑받고 있으며, 안정적이고 성능이 우수한 애플리케이션을 개발할 수 있도록 도와줍니다.'"
      ]
     },
     "execution_count": 3,
     "metadata": {},
     "output_type": "execute_result"
    }
   ],
   "source": [
    "chat.predict(\"플러터에 대해서 설명해줘\")"
   ]
  },
  {
   "cell_type": "code",
   "execution_count": 4,
   "metadata": {},
   "outputs": [
    {
     "data": {
      "text/plain": [
       "AIMessage(content='플러터(Flutter)는 구글에서 개발한 오픈 소스 프레임워크로, 모바일 애플리케이션을 빠르고 쉽게 개발할 수 있도록 도와주는 도구입니다. 플러터를 사용하면 안드로이드와 iOS 모두에서 동작하는 고품질의 네이티브 앱을 만들 수 있습니다.\\n\\n플러터는 다양한 기능과 라이브러리를 제공하여 개발자가 UI 디자인부터 상태 관리, 네트워킹, 데이터베이스 처리 등을 효과적으로 구현할 수 있도록 도와줍니다. 또한, 핫 리로드 기능을 통해 코드 변경을 즉시 반영하여 빠르게 앱을 개발하고 테스트할 수 있습니다.\\n\\n또한, 플러터는 다양한 플랫폼에서 동일한 코드베이스를 사용하여 앱을 개발할 수 있기 때문에 개발 시간을 단축시키고 유지보수를 쉽게 할 수 있습니다. 이러한 장점들로 인해 플러터는 많은 개발자들에게 인기가 있는 프레임워크로 자리잡고 있습니다.', response_metadata={'token_usage': {'completion_tokens': 375, 'prompt_tokens': 20, 'total_tokens': 395}, 'model_name': 'gpt-3.5-turbo', 'system_fingerprint': None, 'finish_reason': 'stop', 'logprobs': None}, id='run-3850d854-521c-4d8a-929a-16819c4ed75d-0', usage_metadata={'input_tokens': 20, 'output_tokens': 375, 'total_tokens': 395})"
      ]
     },
     "execution_count": 4,
     "metadata": {},
     "output_type": "execute_result"
    }
   ],
   "source": [
    "chat.invoke(\"플러터에 대해서 설명해줘\")"
   ]
  },
  {
   "cell_type": "code",
   "execution_count": 6,
   "metadata": {},
   "outputs": [],
   "source": [
    "from langchain_core.prompts import ChatPromptTemplate\n",
    "\n",
    "diamond_prompt = ChatPromptTemplate.from_messages(\n",
    "    [\n",
    "        (\n",
    "            \"system\",\n",
    "            \"너는 세계 최고의 다이아몬드 세공사야\",\n",
    "        ),\n",
    "        (\n",
    "            \"human\",\"다이아몬드 {jwealary} 만드는 방법을 알려줘.\",\n",
    "        )\n",
    "    ]\n",
    ")\n",
    "\n",
    "diamond_chain = diamond_prompt | chat\n"
   ]
  },
  {
   "cell_type": "code",
   "execution_count": 8,
   "metadata": {},
   "outputs": [
    {
     "name": "stdout",
     "output_type": "stream",
     "text": [
      "다이아몬드 반지를 만드는 과정은 다음과 같습니다:\n",
      "\n",
      "1. 다이아몬드 선택: 먼저 다이아몬드를 선택해야 합니다. 다이아몬드의 크기, 색상, 순도 등을 고려하여 적합한 다이아몬드를 선택합니다.\n",
      "\n",
      "2. 디자인 결정: 반지의 디자인을 결정합니다. 원형, 프린세스 컷, 에메랄드 컷 등 원하는 다이아몬드 컷과 반지의 디자인을 선택합니다.\n",
      "\n",
      "3. 금속 선택: 반지를 만들 때 사용할 금속을 선택합니다. 주로 사용되는 금속은 화이트 골드, 옐로우 골드, 로즈 골드, 플래티넘 등이 있습니다.\n",
      "\n",
      "4. 다이아몬드 세팅: 다이아몬드를 금속에 세팅하는 과정을 거칩니다. 다이아몬드를 고정시키고 보석이 빛나도록 조절합니다.\n",
      "\n",
      "5. 마무리: 반지의 마무리 작업을 진행합니다. 다듬기, 광택 작업 등을 통해 반지를 완성합니다.\n",
      "\n",
      "이러한 과정을 거쳐 다이아몬드 반지를 만들 수 있습니다. 다이아몬드 세공사는 이러한 과정을 전문적으로 수행하여 고객에게 최고의 품질의 다이아몬드 반지를 제공합니다."
     ]
    },
    {
     "data": {
      "text/plain": [
       "AIMessage(content='다이아몬드 반지를 만드는 과정은 다음과 같습니다:\\n\\n1. 다이아몬드 선택: 먼저 다이아몬드를 선택해야 합니다. 다이아몬드의 크기, 색상, 순도 등을 고려하여 적합한 다이아몬드를 선택합니다.\\n\\n2. 디자인 결정: 반지의 디자인을 결정합니다. 원형, 프린세스 컷, 에메랄드 컷 등 원하는 다이아몬드 컷과 반지의 디자인을 선택합니다.\\n\\n3. 금속 선택: 반지를 만들 때 사용할 금속을 선택합니다. 주로 사용되는 금속은 화이트 골드, 옐로우 골드, 로즈 골드, 플래티넘 등이 있습니다.\\n\\n4. 다이아몬드 세팅: 다이아몬드를 금속에 세팅하는 과정을 거칩니다. 다이아몬드를 고정시키고 보석이 빛나도록 조절합니다.\\n\\n5. 마무리: 반지의 마무리 작업을 진행합니다. 다듬기, 광택 작업 등을 통해 반지를 완성합니다.\\n\\n이러한 과정을 거쳐 다이아몬드 반지를 만들 수 있습니다. 다이아몬드 세공사는 이러한 과정을 전문적으로 수행하여 고객에게 최고의 품질의 다이아몬드 반지를 제공합니다.', response_metadata={'finish_reason': 'stop'}, id='run-5c87e21f-73d0-4673-b4da-2876ae7c5ef0-0')"
      ]
     },
     "execution_count": 8,
     "metadata": {},
     "output_type": "execute_result"
    }
   ],
   "source": [
    "diamond_chain.invoke({\"jwealary\":\"반지\"})"
   ]
  },
  {
   "cell_type": "code",
   "execution_count": 41,
   "metadata": {},
   "outputs": [],
   "source": [
    "gold_prompt = ChatPromptTemplate.from_messages(\n",
    "    [\n",
    "        (\n",
    "            \"system\",\n",
    "             \"너는 세계 최고의 금 세공사야 이러한 레시피를 금으로할 수 있게 바꿔줘, 영어로 번역 후 제작순서를 ','로 구분해서 레시피만 출력해줘\",\n",
    "        ),\n",
    "        (\n",
    "            \"human\",\"{recipe}\",\n",
    "        )\n",
    "    ]\n",
    ")\n",
    "gold_chain = gold_prompt | chat"
   ]
  },
  {
   "cell_type": "code",
   "execution_count": 42,
   "metadata": {},
   "outputs": [
    {
     "name": "stdout",
     "output_type": "stream",
     "text": [
      "금으로 반지를 만드는 레시피를 알려드리겠습니다.\n",
      "\n",
      "재료:\n",
      "1. 금괴\n",
      "2. 금속 세공 도구 (망치, 새김날, 세공기 등)\n",
      "3. 석재 (옵션)\n",
      "4. 보석 (옵션)\n",
      "\n",
      "만드는 방법:\n",
      "1. 금괴를 세공 도구를 사용하여 원하는 모양으로 세공합니다. 반지의 형태를 만들어주세요.\n",
      "2. 세공이 끝나면 석재나 보석을 추가할 수 있습니다. 석재를 넣을 경우, 금 반지에 석재를 부착하고 세공합니다.\n",
      "3. 마지막으로 반지를 정교하게 다듬고 마무리합니다. 필요에 따라 금 반지에 문양을 새길 수도 있습니다.\n",
      "\n",
      "이렇게 하면 세계 최고의 금 세공사로서 아름다운 금 반지를 만들 수 있을 것입니다. 만들 때 주의할 점은 안전을 위해 안경과 장갑을 착용하고, 세공 도구를 안전하게 다루는 것입니다. 즐거운 금 세공이 되길 바랍니다!"
     ]
    }
   ],
   "source": [
    "\n",
    "gold_chain.invoke({\"recipe\":\"반지\"})\n"
   ]
  },
  {
   "cell_type": "code",
   "execution_count": 43,
   "metadata": {},
   "outputs": [
    {
     "ename": "AttributeError",
     "evalue": "'AIMessage' object has no attribute 'split'",
     "output_type": "error",
     "traceback": [
      "\u001b[1;31m---------------------------------------------------------------------------\u001b[0m",
      "\u001b[1;31mAttributeError\u001b[0m                            Traceback (most recent call last)",
      "Cell \u001b[1;32mIn[43], line 11\u001b[0m\n\u001b[0;32m      7\u001b[0m         \u001b[38;5;28;01mreturn\u001b[39;00m \u001b[38;5;28mlist\u001b[39m(items)   \n\u001b[0;32m      9\u001b[0m parser \u001b[38;5;241m=\u001b[39m OutputPaser()\n\u001b[1;32m---> 11\u001b[0m \u001b[43mparser\u001b[49m\u001b[38;5;241;43m.\u001b[39;49m\u001b[43mparse\u001b[49m\u001b[43m(\u001b[49m\u001b[43meq\u001b[49m\u001b[43m)\u001b[49m\n",
      "Cell \u001b[1;32mIn[43], line 6\u001b[0m, in \u001b[0;36mOutputPaser.parse\u001b[1;34m(self, text)\u001b[0m\n\u001b[0;32m      5\u001b[0m \u001b[38;5;28;01mdef\u001b[39;00m \u001b[38;5;21mparse\u001b[39m(\u001b[38;5;28mself\u001b[39m, text) :\n\u001b[1;32m----> 6\u001b[0m     items \u001b[38;5;241m=\u001b[39m  \u001b[43mtext\u001b[49m\u001b[38;5;241;43m.\u001b[39;49m\u001b[43msplit\u001b[49m(\u001b[38;5;124m'\u001b[39m\u001b[38;5;124m,\u001b[39m\u001b[38;5;124m'\u001b[39m)\n\u001b[0;32m      7\u001b[0m     \u001b[38;5;28;01mreturn\u001b[39;00m \u001b[38;5;28mlist\u001b[39m(items)\n",
      "\u001b[1;31mAttributeError\u001b[0m: 'AIMessage' object has no attribute 'split'"
     ]
    }
   ],
   "source": [
    "from langchain_core.output_parsers import BaseOutputParser\n",
    "\n",
    "class OutputPaser(BaseOutputParser):\n",
    "\n",
    "    def parse(self, text) :\n",
    "        items =  text.split(',')\n",
    "        return list(items)   \n",
    "\n",
    "parser = OutputPaser()\n",
    "\n",
    "parser.parse()"
   ]
  },
  {
   "cell_type": "markdown",
   "metadata": {},
   "source": []
  }
 ],
 "metadata": {
  "kernelspec": {
   "display_name": "env",
   "language": "python",
   "name": "python3"
  },
  "language_info": {
   "codemirror_mode": {
    "name": "ipython",
    "version": 3
   },
   "file_extension": ".py",
   "mimetype": "text/x-python",
   "name": "python",
   "nbconvert_exporter": "python",
   "pygments_lexer": "ipython3",
   "version": "3.12.4"
  }
 },
 "nbformat": 4,
 "nbformat_minor": 2
}
