{
 "cells": [
  {
   "cell_type": "code",
   "execution_count": 1,
   "metadata": {},
   "outputs": [
    {
     "name": "stdout",
     "output_type": "stream",
     "text": [
      "Defaulting to user installation because normal site-packages is not writeable\n",
      "Requirement already satisfied: numpy in c:\\users\\user\\appdata\\local\\packages\\pythonsoftwarefoundation.python.3.12_qbz5n2kfra8p0\\localcache\\local-packages\\python312\\site-packages (1.26.4)\n",
      "Note: you may need to restart the kernel to use updated packages.\n"
     ]
    }
   ],
   "source": [
    "%pip install numpy\n",
    "# colab 의 경우 !pip install numpy"
   ]
  },
  {
   "cell_type": "code",
   "execution_count": 2,
   "metadata": {},
   "outputs": [
    {
     "data": {
      "text/plain": [
       "\"\\n\\nPerceptron 이란?\\n: 뉴런의 신호 메커니즘을 본떠 만든 수학적 모델\\n\\nPerceptron 의 특징\\n: 다수의 신호를 입력으로 받아 하나의 신호를 출력한다. 이 때 신호를 전류나 강물 처럼 흐름이 있는 것 이라 생각하면 좋다.\\n그러나 전류와 강물과는 다르게 퍼셉트론 신호는 '흐른다/안흐른다' 의 두 가지 값만 가질 수 있다.\\n\\ny = { 0 (x1*w1 + x2*w <= 0) }\\n\\t\\t{ 1 (x1*w1 + x2*w > 0) }\\n\\n퍼셉트론의 구성 요소\\n\\n노드 : 원\\n입력층 : 입력이 발생하는 노드\\n은닉층 : 가중치 값을 곱하는 여러 층\\n출력층 : 출력이 발생하는 층\\n가중치 : 노드에 대한 중요도를 표현, 노드별 중요도에 따라 값이 다름\\n편향 : 노드의 민감도를 조정, 가중치 만으로 세밀한 조정이 어려운 경우 편향을 주어 조정\\n임계값 : 입력 신호의 총합이 넘어야 하는 기준값 값을 넘으면 1(흐름) 넘지 못하면 0(흐르지 않음)을 출력\\n\\n\""
      ]
     },
     "execution_count": 2,
     "metadata": {},
     "output_type": "execute_result"
    }
   ],
   "source": [
    "'''\n",
    "\n",
    "Perceptron 이란?\n",
    ": 뉴런의 신호 메커니즘을 본떠 만든 수학적 모델\n",
    "\n",
    "Perceptron 의 특징\n",
    ": 다수의 신호를 입력으로 받아 하나의 신호를 출력한다. 이 때 신호를 전류나 강물 처럼 흐름이 있는 것 이라 생각하면 좋다.\n",
    "그러나 전류와 강물과는 다르게 퍼셉트론 신호는 '흐른다/안흐른다' 의 두 가지 값만 가질 수 있다.\n",
    "\n",
    "y = { 0 (x1*w1 + x2*w <= 0) }\n",
    "\t\t{ 1 (x1*w1 + x2*w > 0) }\n",
    "\n",
    "퍼셉트론의 구성 요소\n",
    "\n",
    "노드 : 원\n",
    "입력층 : 입력이 발생하는 노드\n",
    "은닉층 : 가중치 값을 곱하는 여러 층\n",
    "출력층 : 출력이 발생하는 층\n",
    "가중치 : 노드에 대한 중요도를 표현, 노드별 중요도에 따라 값이 다름\n",
    "편향 : 노드의 민감도를 조정, 가중치 만으로 세밀한 조정이 어려운 경우 편향을 주어 조정\n",
    "임계값 : 입력 신호의 총합이 넘어야 하는 기준값 값을 넘으면 1(흐름) 넘지 못하면 0(흐르지 않음)을 출력\n",
    "\n",
    "'''"
   ]
  },
  {
   "cell_type": "code",
   "execution_count": 5,
   "metadata": {},
   "outputs": [],
   "source": [
    "# 단순한 논리 회로\n",
    "\n",
    "# AND gate\n",
    "'''\n",
    "\n",
    "input\n",
    "x1 : 0, x2 : 0 => y : 0\n",
    "x1 : 1, x2 : 0 => y : 0\n",
    "x1 : 0, x2 : 1 => y : 0\n",
    "x1 : 1, x2 : 1 => y : 1\n",
    "\n",
    "위 와 같은 출력을 위해 w1, w2, 0(세타) 값을 적절히 세팅해야 한다.\n",
    "\n",
    "'''\n",
    "def AND(x1, x2):\n",
    "\tw1, w2, theta = 0.5, 0.5, 0.7\n",
    "\ttemp = x1*w1 + x2*w2\n",
    "\tif temp <= theta :\n",
    "\t\treturn 0\n",
    "\telif temp > theta :\n",
    "\t\treturn 1"
   ]
  },
  {
   "cell_type": "code",
   "execution_count": 10,
   "metadata": {},
   "outputs": [
    {
     "name": "stdout",
     "output_type": "stream",
     "text": [
      "0\n",
      "0\n",
      "0\n",
      "1\n"
     ]
    },
    {
     "data": {
      "text/plain": [
       "'\\n해설\\n\\n가중치 w1, w2 가 각각 0.5 일 경우\\nx1 : 0, x2 : 0 => 0*0.5 + 0*0.5 임으로 값이 0 이 되고 이는 0.7인 theta(임계값) 를 넘지 못해 0이 출력 된다.\\nx1 : 1, x2 : 0 => 1*0.5 + 0*0.5 임으로 값이 0.5 이 되고 이는 0.7인 theta(임계값) 를 넘지 못해 0이 출력 된다.\\nx1 : 0, x2 : 1 => 0*0.5 + 1*0.5 임으로 값이 0.5 이 되고 이는 0.7인 theta(임계값) 를 넘지 못해 0이 출력 된다.\\nx1 : 1, x2 : 1 => 1*0.5 + 1*0.5 임으로 값이 1.0 이 되어 0.7인 theta(임계값) 를 넘어 1이 출력 된다.\\n\\n'"
      ]
     },
     "execution_count": 10,
     "metadata": {},
     "output_type": "execute_result"
    }
   ],
   "source": [
    "print(AND(0, 0)) # 0\n",
    "print(AND(1, 0)) # 0\n",
    "print(AND(0, 1)) # 0\n",
    "print(AND(1, 1)) # 1\n",
    "\n",
    "'''\n",
    "해설\n",
    "\n",
    "가중치 w1, w2 가 각각 0.5 일 경우\n",
    "x1 : 0, x2 : 0 => 0*0.5 + 0*0.5 임으로 값이 0 이 되고 이는 0.7인 theta(임계값) 를 넘지 못해 0이 출력 된다.\n",
    "x1 : 1, x2 : 0 => 1*0.5 + 0*0.5 임으로 값이 0.5 이 되고 이는 0.7인 theta(임계값) 를 넘지 못해 0이 출력 된다.\n",
    "x1 : 0, x2 : 1 => 0*0.5 + 1*0.5 임으로 값이 0.5 이 되고 이는 0.7인 theta(임계값) 를 넘지 못해 0이 출력 된다.\n",
    "x1 : 1, x2 : 1 => 1*0.5 + 1*0.5 임으로 값이 1.0 이 되어 0.7인 theta(임계값) 를 넘어 1이 출력 된다.\n",
    "\n",
    "'''"
   ]
  },
  {
   "cell_type": "code",
   "execution_count": 2,
   "metadata": {},
   "outputs": [],
   "source": [
    "# 가중치와 편향 도입\n",
    "\n",
    "import numpy as np"
   ]
  },
  {
   "cell_type": "code",
   "execution_count": 3,
   "metadata": {},
   "outputs": [],
   "source": [
    "# AND(논리곱) gate\n",
    "\n",
    "def AND(x1, x2):\n",
    "\tx = np.array([x1, x2])\n",
    "\tw = np.array([0.5, 0.5])\n",
    "\tb = -0.7 #편향 b\n",
    "\ttemp = np.sum(x*w) + b\n",
    "\tif temp <= 0 :\n",
    "\t\treturn 0\n",
    "\telif temp > 0 :\n",
    "\t\treturn 1\n"
   ]
  },
  {
   "cell_type": "code",
   "execution_count": 4,
   "metadata": {},
   "outputs": [
    {
     "name": "stdout",
     "output_type": "stream",
     "text": [
      "0\n",
      "0\n",
      "0\n",
      "1\n"
     ]
    },
    {
     "data": {
      "text/plain": [
       "'\\n해설\\n\\n가중치 w1, w2 가 각각 0.5 일 경우\\nx1 : 0, x2 : 0 => 0*0.5 + 0*0.5 + -0.7 임으로 값이 -0.7 이 되고 이는 0을 넘지 못해 0이 출력 된다.\\nx1 : 1, x2 : 0 => 1*0.5 + 0*0.5 + -0.7 임으로 값이 -0.2 가 되고 이는 0을 넘지 못해 0이 출력 된다.\\nx1 : 0, x2 : 0 => 0*0.5 + 1*0.5 + -0.7 임으로 값이 -0.2 이 되고 이는 0을 넘지 못해 0이 출력 된다.\\nx1 : 0, x2 : 0 => 1*0.5 + 1*0.5 + -0.7 임으로 값이 0.3 이 되어 0을 넘고 1이 출력된다.\\n\\n'"
      ]
     },
     "execution_count": 4,
     "metadata": {},
     "output_type": "execute_result"
    }
   ],
   "source": [
    "print(AND(0, 0)) # 0\n",
    "print(AND(1, 0)) # 0\n",
    "print(AND(0, 1)) # 0\n",
    "print(AND(1, 1)) # 1\n",
    "\n",
    "'''\n",
    "해설\n",
    "\n",
    "가중치 w1, w2 가 각각 0.5 일 경우\n",
    "x1 : 0, x2 : 0 => 0*0.5 + 0*0.5 + -0.7 임으로 값이 -0.7 이 되고 이는 0을 넘지 못해 0이 출력 된다.\n",
    "x1 : 1, x2 : 0 => 1*0.5 + 0*0.5 + -0.7 임으로 값이 -0.2 가 되고 이는 0을 넘지 못해 0이 출력 된다.\n",
    "x1 : 0, x2 : 0 => 0*0.5 + 1*0.5 + -0.7 임으로 값이 -0.2 이 되고 이는 0을 넘지 못해 0이 출력 된다.\n",
    "x1 : 0, x2 : 0 => 1*0.5 + 1*0.5 + -0.7 임으로 값이 0.3 이 되어 0을 넘고 1이 출력된다.\n",
    "\n",
    "'''"
   ]
  },
  {
   "cell_type": "code",
   "execution_count": 5,
   "metadata": {},
   "outputs": [],
   "source": [
    "# NAND(부정 논리곱) gate\n",
    "\n",
    "# AND 에 NOT을 추가한 것으로 AND와 정 반대의 출력값을 가진다.\n",
    "def NAND(x1, x2):\n",
    "\tx = np.array([x1, x2])\n",
    "\t# 가중치와 편향의 값에 -1 을 곱해 정 반대의 출력을 구현할 수 있다.\n",
    "\tw = np.array([-0.5, -0.5])\n",
    "\tb = 0.7 \n",
    "\ttemp = np.sum(x*w) + b\n",
    "\tif temp <= 0 :\n",
    "\t\treturn 0\n",
    "\telif temp > 0 :\n",
    "\t\treturn 1"
   ]
  },
  {
   "cell_type": "code",
   "execution_count": 6,
   "metadata": {},
   "outputs": [
    {
     "name": "stdout",
     "output_type": "stream",
     "text": [
      "1\n",
      "1\n",
      "1\n",
      "0\n"
     ]
    },
    {
     "data": {
      "text/plain": [
       "'\\n해설\\n\\n가중치 w1, w2 가 각각 -0.5 일 경우\\nx1 : 0, x2 : 0 => 0*-0.5 + 0*-0.5 + 0.7 임으로 값이 0.7 이 되어 0 을 넘고 1 이 출력된다.\\nx1 : 1, x2 : 0 => 1*-0.5 + 0*-0.5 + 0.7 임으로 값이 0.2 가 되어 0 을 넘고 1 이 출력된다.\\nx1 : 0, x2 : 1 => 0*-0.5 + 1*-0.5 + 0.7 임으로 값이 0.2 가 되어 0 을 넘고 1 이 출력된다.\\nx1 : 0, x2 : 0 => 1*-0.5 + 1*-0.5 + 0.7 임으로 값이 -0.3 이 되고 이는 0을 넘지 못해 0이 출력 된다.\\n\\n'"
      ]
     },
     "execution_count": 6,
     "metadata": {},
     "output_type": "execute_result"
    }
   ],
   "source": [
    "print(NAND(0, 0)) # 0\n",
    "print(NAND(1, 0)) # 0\n",
    "print(NAND(0, 1)) # 0\n",
    "print(NAND(1, 1)) # 1\n",
    "\n",
    "'''\n",
    "해설\n",
    "\n",
    "가중치 w1, w2 가 각각 -0.5 일 경우\n",
    "x1 : 0, x2 : 0 => 0*-0.5 + 0*-0.5 + 0.7 임으로 값이 0.7 이 되어 0 을 넘고 1 이 출력된다.\n",
    "x1 : 1, x2 : 0 => 1*-0.5 + 0*-0.5 + 0.7 임으로 값이 0.2 가 되어 0 을 넘고 1 이 출력된다.\n",
    "x1 : 0, x2 : 1 => 0*-0.5 + 1*-0.5 + 0.7 임으로 값이 0.2 가 되어 0 을 넘고 1 이 출력된다.\n",
    "x1 : 0, x2 : 0 => 1*-0.5 + 1*-0.5 + 0.7 임으로 값이 -0.3 이 되고 이는 0을 넘지 못해 0이 출력 된다.\n",
    "\n",
    "'''"
   ]
  },
  {
   "cell_type": "code",
   "execution_count": 7,
   "metadata": {},
   "outputs": [],
   "source": [
    "# OR(논리 합) gate\n",
    "\n",
    "def OR(x1, x2):\n",
    "\tx = np.array([x1, x2])\n",
    "\t# 가중치와 편향의 값에 -1 을 곱해 정 반대의 출력을 구현할 수 있다.\n",
    "\tw = np.array([0.5, 0.5])\n",
    "\tb = -0.2\n",
    "\ttemp = np.sum(x*w) + b\n",
    "\tif temp <= 0 :\n",
    "\t\treturn 0\n",
    "\telif temp > 0 :\n",
    "\t\treturn 1"
   ]
  },
  {
   "cell_type": "code",
   "execution_count": 8,
   "metadata": {},
   "outputs": [
    {
     "name": "stdout",
     "output_type": "stream",
     "text": [
      "0\n",
      "1\n",
      "1\n",
      "1\n"
     ]
    },
    {
     "data": {
      "text/plain": [
       "'\\n해설\\n\\n가중치 w1, w2 가 각각 0.5 일 경우\\nx1 : 0, x2 : 0 => 0*0.5 + 0*0.5 + 0.2 임으로 값이 -0.2 가 되고 0 을 넘지 못해 0 이 출력된다.\\nx1 : 1, x2 : 0 => 1*0.5 + 0*0.5 + 0.2 임으로 값이 0.3 가 되어 0 을 넘고 1 이 출력된다.\\nx1 : 0, x2 : 1 => 0*0.5 + 1*0.5 + 0.2 임으로 값이 0.3 가 되어 0 을 넘고 1 이 출력된다.\\nx1 : 0, x2 : 0 => 1*0.5 + 1*0.5 + 0.2 임으로 값이 0.7 이 되어 0 을 넘고 1 이 출력된다.\\n\\n'"
      ]
     },
     "execution_count": 8,
     "metadata": {},
     "output_type": "execute_result"
    }
   ],
   "source": [
    "print(OR(0, 0)) # 0\n",
    "print(OR(1, 0)) # 1\n",
    "print(OR(0, 1)) # 1\n",
    "print(OR(1, 1)) # 1\n",
    "\n",
    "'''\n",
    "해설\n",
    "\n",
    "가중치 w1, w2 가 각각 0.5 일 경우\n",
    "x1 : 0, x2 : 0 => 0*0.5 + 0*0.5 + 0.2 임으로 값이 -0.2 가 되고 0 을 넘지 못해 0 이 출력된다.\n",
    "x1 : 1, x2 : 0 => 1*0.5 + 0*0.5 + 0.2 임으로 값이 0.3 가 되어 0 을 넘고 1 이 출력된다.\n",
    "x1 : 0, x2 : 1 => 0*0.5 + 1*0.5 + 0.2 임으로 값이 0.3 가 되어 0 을 넘고 1 이 출력된다.\n",
    "x1 : 0, x2 : 0 => 1*0.5 + 1*0.5 + 0.2 임으로 값이 0.7 이 되어 0 을 넘고 1 이 출력된다.\n",
    "\n",
    "'''"
   ]
  },
  {
   "cell_type": "code",
   "execution_count": 13,
   "metadata": {},
   "outputs": [],
   "source": [
    "# XOR(베타적 논리합)\n",
    "\n",
    "# 00 : 0\n",
    "# 01 : 1\n",
    "# 10 : 1\n",
    "# 11 : 0\n",
    "\n",
    "# 입력된 두 값이 서로 다를 때 전류가 흐른다\n",
    "\n",
    "# AND = 두 값이 모두 1일때\n",
    "# NAND = 두 값이 모두 1이 아닐때\n",
    "# OR = 두 값이 0이 아닐때\n",
    "\n",
    "def XOR(x1, x2):\n",
    "    s1 = NAND(x1,x2)\n",
    "    s2 = OR(x1,x2)\n",
    "    y = AND(s1,s2)\n",
    "    return y"
   ]
  },
  {
   "cell_type": "code",
   "execution_count": 14,
   "metadata": {},
   "outputs": [
    {
     "name": "stdout",
     "output_type": "stream",
     "text": [
      "0\n",
      "1\n",
      "1\n",
      "0\n"
     ]
    }
   ],
   "source": [
    "print(XOR(0,0))\n",
    "print(XOR(0,1))\n",
    "print(XOR(1,0))\n",
    "print(XOR(1,1))"
   ]
  },
  {
   "cell_type": "code",
   "execution_count": null,
   "metadata": {},
   "outputs": [],
   "source": [
    "\n",
    "#1. 퍼셉트론은 입출력을 가춘 알고리즘으로 입력 값을 주면 정해진 규칙에 따른 값을 출력한다\n",
    "#2. 퍼셉트론에서는 가중치 와 편향을 매개변수로 설정한다\n",
    "#3. 퍼셉트론으로 AND, OR 게이트 등의 논리회로를 표현할 수 있다\n",
    "#4. XOR는 단층 퍼셉트론에서는 구현할 수 없다.\n",
    "#5. 2층 퍼셉트론을 이용하면 XOR를 구현할 수 있다.\n",
    "#6. 단층 퍼셉트론은 직선형 영역만 표현할 수 있고, 다층 퍼셉트론은 비선형 영역에도 표현할 수 있다\n",
    "#7. 다층 퍼셉트론은 이론상 컴퓨터를 표현할 수 있다."
   ]
  }
 ],
 "metadata": {
  "kernelspec": {
   "display_name": "env",
   "language": "python",
   "name": "python3"
  },
  "language_info": {
   "codemirror_mode": {
    "name": "ipython",
    "version": 3
   },
   "file_extension": ".py",
   "mimetype": "text/x-python",
   "name": "python",
   "nbconvert_exporter": "python",
   "pygments_lexer": "ipython3",
   "version": "3.12.4"
  }
 },
 "nbformat": 4,
 "nbformat_minor": 2
}
