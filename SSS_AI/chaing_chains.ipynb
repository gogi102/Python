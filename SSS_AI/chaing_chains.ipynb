{
 "cells": [
  {
   "cell_type": "code",
   "execution_count": 1,
   "metadata": {},
   "outputs": [],
   "source": [
    "from langchain_openai import ChatOpenAI\n",
    "from langchain_core.prompts import ChatPromptTemplate\n",
    "from langchain_core.callbacks import StreamingStdOutCallbackHandler\n",
    "\n",
    "\n",
    "chat = ChatOpenAI(\n",
    "    temperature=0.1,\n",
    "    streaming=True,\n",
    "    callbacks=[\n",
    "        StreamingStdOutCallbackHandler(),\n",
    "    ]\n",
    ")\n",
    "\n",
    "chef_prompt = ChatPromptTemplate.from_messages(\n",
    "    [\n",
    "        (\n",
    "            \"system\",\n",
    "            \"You are a world-class international chef. You create easy to follow recipies for any type of cuisine with easy to find ingredients.\",\n",
    "        ),\n",
    "        (\n",
    "            \"human\",\"I want to cook {cuisine} food.\",\n",
    "        )\n",
    "    ]\n",
    ")\n",
    "\n",
    "chef_chain = chef_prompt | chat"
   ]
  },
  {
   "cell_type": "code",
   "execution_count": 2,
   "metadata": {},
   "outputs": [
    {
     "name": "stdout",
     "output_type": "stream",
     "text": [
      "Great choice! Japanese cuisine is known for its fresh and simple flavors. Let's make a classic dish - Chicken Teriyaki. Here's a simple recipe for you to try at home:\n",
      "\n",
      "Ingredients:\n",
      "- 2 boneless, skinless chicken breasts\n",
      "- 1/4 cup soy sauce\n",
      "- 1/4 cup mirin (Japanese sweet rice wine)\n",
      "- 2 tablespoons sugar\n",
      "- 1 tablespoon vegetable oil\n",
      "- 1 teaspoon grated ginger\n",
      "- 1 clove garlic, minced\n",
      "- Sesame seeds and chopped green onions for garnish\n",
      "\n",
      "Instructions:\n",
      "1. Slice the chicken breasts into thin strips or bite-sized pieces.\n",
      "2. In a bowl, mix together the soy sauce, mirin, sugar, ginger, and garlic to make the teriyaki sauce.\n",
      "3. Heat the vegetable oil in a large skillet over medium-high heat.\n",
      "4. Add the chicken to the skillet and cook until browned on all sides.\n",
      "5. Pour the teriyaki sauce over the chicken and stir to coat.\n",
      "6. Reduce the heat to low and simmer for about 5-7 minutes, or until the sauce has thickened and the chicken is cooked through.\n",
      "7. Serve the chicken teriyaki over steamed rice and garnish with sesame seeds and chopped green onions.\n",
      "\n",
      "Enjoy your homemade Chicken Teriyaki! It's a delicious and satisfying dish that captures the essence of Japanese cuisine."
     ]
    },
    {
     "data": {
      "text/plain": [
       "AIMessage(content=\"Great choice! Japanese cuisine is known for its fresh and simple flavors. Let's make a classic dish - Chicken Teriyaki. Here's a simple recipe for you to try at home:\\n\\nIngredients:\\n- 2 boneless, skinless chicken breasts\\n- 1/4 cup soy sauce\\n- 1/4 cup mirin (Japanese sweet rice wine)\\n- 2 tablespoons sugar\\n- 1 tablespoon vegetable oil\\n- 1 teaspoon grated ginger\\n- 1 clove garlic, minced\\n- Sesame seeds and chopped green onions for garnish\\n\\nInstructions:\\n1. Slice the chicken breasts into thin strips or bite-sized pieces.\\n2. In a bowl, mix together the soy sauce, mirin, sugar, ginger, and garlic to make the teriyaki sauce.\\n3. Heat the vegetable oil in a large skillet over medium-high heat.\\n4. Add the chicken to the skillet and cook until browned on all sides.\\n5. Pour the teriyaki sauce over the chicken and stir to coat.\\n6. Reduce the heat to low and simmer for about 5-7 minutes, or until the sauce has thickened and the chicken is cooked through.\\n7. Serve the chicken teriyaki over steamed rice and garnish with sesame seeds and chopped green onions.\\n\\nEnjoy your homemade Chicken Teriyaki! It's a delicious and satisfying dish that captures the essence of Japanese cuisine.\", response_metadata={'finish_reason': 'stop'}, id='run-e11f4d27-743f-436b-b224-56f479efe7f7-0')"
      ]
     },
     "execution_count": 2,
     "metadata": {},
     "output_type": "execute_result"
    }
   ],
   "source": [
    "chef_chain.invoke({\n",
    "    \"cuisine\" : \"Japan\"\n",
    "}\n",
    ")"
   ]
  },
  {
   "cell_type": "code",
   "execution_count": null,
   "metadata": {},
   "outputs": [],
   "source": []
  },
  {
   "cell_type": "code",
   "execution_count": 3,
   "metadata": {},
   "outputs": [],
   "source": [
    "veg_chef_prompt = ChatPromptTemplate.from_messages(\n",
    "    [\n",
    "        (\n",
    "            \"system\",\n",
    "             \"You are a vegetarian chef specialized on making traditional recipies vegetarian. You find alternative ingredients and explain their preparation. You don't radically modify the recipe. If there is no alternative for a food just say you don't know how to replace it.\",\n",
    "        ),\n",
    "        (\n",
    "            \"human\",\"{recipe}\",\n",
    "        )\n",
    "    ]\n",
    ")\n",
    "\n",
    "veg_chain = veg_chef_prompt | chat"
   ]
  },
  {
   "cell_type": "code",
   "execution_count": 4,
   "metadata": {},
   "outputs": [],
   "source": [
    "final_chain={\"recipe\":chef_chain}|veg_chain"
   ]
  },
  {
   "cell_type": "code",
   "execution_count": 5,
   "metadata": {},
   "outputs": [
    {
     "name": "stdout",
     "output_type": "stream",
     "text": [
      "Great choice! Korean cuisine is known for its bold flavors and unique ingredients. Let's start with a classic and delicious recipe for Bibimbap, a popular Korean mixed rice dish. Here's how you can make it at home:\n",
      "\n",
      "Ingredients:\n",
      "- 2 cups cooked short-grain rice\n",
      "- 1 carrot, julienned\n",
      "- 1 zucchini, julienned\n",
      "- 1 cup spinach\n",
      "- 1 cup bean sprouts\n",
      "- 4 shiitake mushrooms, sliced\n",
      "- 1/2 pound beef (such as ribeye or sirloin), thinly sliced\n",
      "- 4 eggs\n",
      "- Sesame oil\n",
      "- Soy sauce\n",
      "- Gochujang (Korean red chili paste)\n",
      "- Sesame seeds\n",
      "- Salt\n",
      "- Vegetable oil\n",
      "\n",
      "Instructions:\n",
      "1. Marinate the beef: In a bowl, mix the beef slices with 2 tablespoons of soy sauce, 1 tablespoon of sesame oil, and a pinch of salt. Set aside to marinate while you prepare the vegetables.\n",
      "\n",
      "2. Prepare the vegetables:\n",
      "- Carrot: Heat a little vegetable oil in a pan and stir-fry the julienned carrot until slightly softened. Season with a pinch of salt. Set aside.\n",
      "- Zucchini: Repeat the same process for the julienned zucchini. Set aside.\n",
      "- Spinach: Blanch the spinach in boiling water for about 30 seconds. Drain and rinse with cold water. Squeeze out excess water and season with a pinch of salt and a drizzle of sesame oil. Set aside.\n",
      "- Bean sprouts: Blanch the bean sprouts in boiling water for about 1-2 minutes. Drain and rinse with cold water. Season with a pinch of salt and a drizzle of sesame oil. Set aside.\n",
      "- Shiitake mushrooms: Heat a little vegetable oil in a pan and stir-fry the sliced mushrooms until cooked through. Season with a pinch of salt. Set aside.\n",
      "\n",
      "3. Cook the beef: In the same pan used for the mushrooms, cook the marinated beef slices over high heat until browned and cooked through. Set aside.\n",
      "\n",
      "4. Fry the eggs: In a separate pan, fry the eggs sunny-side up or over easy.\n",
      "\n",
      "5. Assemble the Bibimbap:\n",
      "- Divide the cooked rice among serving bowls.\n",
      "- Arrange the cooked vegetables and beef on top of the rice in separate sections.\n",
      "- Place a fried egg on top of each bowl.\n",
      "- Serve with a dollop of gochujang on the side and sprinkle with sesame seeds.\n",
      "\n",
      "6. To eat, mix everything together before enjoying!\n",
      "\n",
      "Bibimbap is a versatile dish, so feel free to customize it with your favorite vegetables or protein. Enjoy your homemade Korean feast!For a vegetarian version of Bibimbap, we can make a few ingredient substitutions:\n",
      "\n",
      "1. **Beef**: Replace the beef with tofu or tempeh. For tofu, you can use firm tofu, cut into thin slices or cubes, and marinate it in a mixture of soy sauce, sesame oil, and a pinch of salt. For tempeh, slice it thinly and marinate it similarly. Then, pan-fry or bake the tofu or tempeh until golden brown.\n",
      "\n",
      "2. **Eggs**: You can omit the eggs or replace them with a vegan egg substitute or scrambled tofu. To make scrambled tofu, crumble firm tofu in a pan and season it with a bit of turmeric for color and salt for flavor.\n",
      "\n",
      "3. **Sesame oil**: Use toasted sesame oil for a nutty flavor, or you can substitute it with a neutral oil like grapeseed or avocado oil.\n",
      "\n",
      "4. **Gochujang**: Make sure to use a vegan-friendly Gochujang paste without any animal-derived ingredients. Alternatively, you can mix Korean red pepper flakes with a bit of soy sauce and a touch of sugar for a similar flavor profile.\n",
      "\n",
      "By making these simple swaps, you can enjoy a delicious vegetarian Bibimbap that retains the essence of the traditional dish while catering to your dietary preferences. Enjoy your meatless Korean feast!"
     ]
    },
    {
     "data": {
      "text/plain": [
       "AIMessage(content='For a vegetarian version of Bibimbap, we can make a few ingredient substitutions:\\n\\n1. **Beef**: Replace the beef with tofu or tempeh. For tofu, you can use firm tofu, cut into thin slices or cubes, and marinate it in a mixture of soy sauce, sesame oil, and a pinch of salt. For tempeh, slice it thinly and marinate it similarly. Then, pan-fry or bake the tofu or tempeh until golden brown.\\n\\n2. **Eggs**: You can omit the eggs or replace them with a vegan egg substitute or scrambled tofu. To make scrambled tofu, crumble firm tofu in a pan and season it with a bit of turmeric for color and salt for flavor.\\n\\n3. **Sesame oil**: Use toasted sesame oil for a nutty flavor, or you can substitute it with a neutral oil like grapeseed or avocado oil.\\n\\n4. **Gochujang**: Make sure to use a vegan-friendly Gochujang paste without any animal-derived ingredients. Alternatively, you can mix Korean red pepper flakes with a bit of soy sauce and a touch of sugar for a similar flavor profile.\\n\\nBy making these simple swaps, you can enjoy a delicious vegetarian Bibimbap that retains the essence of the traditional dish while catering to your dietary preferences. Enjoy your meatless Korean feast!', response_metadata={'finish_reason': 'stop'}, id='run-b519cbaa-bf6d-4a37-b27b-6aea4e11efd2-0')"
      ]
     },
     "execution_count": 5,
     "metadata": {},
     "output_type": "execute_result"
    }
   ],
   "source": [
    "final_chain.invoke({\n",
    "    \"cuisine\" : \"Korean\"\n",
    "})"
   ]
  },
  {
   "cell_type": "code",
   "execution_count": 10,
   "metadata": {},
   "outputs": [],
   "source": [
    "translate = ChatPromptTemplate.from_messages(\n",
    "    [\n",
    "        (\n",
    "            \"system\",\n",
    "             \"Your an world-class professional translator, translate the recipe into Korean\",\n",
    "        ),\n",
    "        (\n",
    "            \"human\",\"{recipe}\"\n",
    "        )\n",
    "    ]\n",
    ")\n",
    "translate_chain = translate | chat"
   ]
  },
  {
   "cell_type": "code",
   "execution_count": 11,
   "metadata": {},
   "outputs": [],
   "source": [
    "final_chain = chef_chain | veg_chain | translate_chain"
   ]
  },
  {
   "cell_type": "code",
   "execution_count": 12,
   "metadata": {},
   "outputs": [
    {
     "name": "stdout",
     "output_type": "stream",
     "text": [
      "Great choice! Korean cuisine is known for its bold flavors and unique ingredients. Let's start with a classic and delicious recipe for Bibimbap, a popular Korean mixed rice dish.\n",
      "\n",
      "Ingredients:\n",
      "- 1 cup of short-grain white rice\n",
      "- 1 carrot, julienned\n",
      "- 1 zucchini, julienned\n",
      "- 1 cup of spinach\n",
      "- 1 cup of bean sprouts\n",
      "- 4 shiitake mushrooms, sliced\n",
      "- 1/2 pound of beef (you can use ribeye or sirloin), thinly sliced\n",
      "- 4 eggs\n",
      "- Sesame oil\n",
      "- Soy sauce\n",
      "- Gochujang (Korean red chili paste)\n",
      "- Sesame seeds\n",
      "- Salt and pepper\n",
      "- Vegetable oil\n",
      "\n",
      "Instructions:\n",
      "1. Cook the rice according to the package instructions and set aside.\n",
      "2. In a small bowl, marinate the beef with 2 tablespoons of soy sauce, 1 tablespoon of sesame oil, and a pinch of black pepper. Set aside to marinate for at least 15 minutes.\n",
      "3. Heat a pan over medium heat and add a little vegetable oil. Cook the marinated beef until browned and cooked through. Set aside.\n",
      "4. In the same pan, add a little more oil and sauté the carrots, zucchini, and mushrooms separately until they are cooked but still slightly crunchy. Season with a pinch of salt.\n",
      "5. Blanch the spinach and bean sprouts in boiling water for about 1 minute. Drain and squeeze out excess water. Season with a little salt and sesame oil.\n",
      "6. In a separate pan, fry the eggs sunny side up or over easy.\n",
      "7. To assemble the bibimbap, divide the cooked rice into bowls. Arrange the cooked vegetables, beef, and fried egg on top of the rice.\n",
      "8. Serve with a dollop of gochujang on the side and sprinkle with sesame seeds.\n",
      "9. Mix everything together before eating to enjoy all the flavors combined.\n",
      "\n",
      "Enjoy your homemade Bibimbap! Feel free to customize the toppings based on your preferences.For a vegetarian version of Bibimbap, we can make a few ingredient substitutions:\n",
      "\n",
      "1. **Beef**: Replace the beef with marinated tofu or tempeh. Cut the tofu or tempeh into thin slices and marinate it in a mixture of soy sauce, sesame oil, and black pepper for at least 15 minutes before cooking. Then, pan-fry or bake the tofu or tempeh until browned and cooked through.\n",
      "\n",
      "2. **Eggs**: You can omit the eggs or replace them with a vegan egg alternative, such as scrambled tofu or a plant-based egg substitute.\n",
      "\n",
      "3. **Soy Sauce**: Use tamari or liquid aminos as a gluten-free alternative to soy sauce.\n",
      "\n",
      "4. **Gochujang**: Make sure to check the ingredients list, as some gochujang may contain fish sauce or other non-vegetarian ingredients. Look for a vegetarian or vegan version of gochujang, or substitute it with a mixture of miso paste and Korean red pepper flakes for a similar flavor profile.\n",
      "\n",
      "By making these simple ingredient swaps, you can enjoy a delicious vegetarian version of Bibimbap while still capturing the traditional flavors of this Korean dish. Enjoy your meatless Bibimbap!채식주의자용 비빔밥 레시피를 만들기 위해 몇 가지 재료를 대체할 수 있습니다:\n",
      "\n",
      "1. **소고기**: 소고기 대신 마리네이트된 두부나 템페를 사용할 수 있습니다. 두부나 템페를 얇게 썰어 소금간, 참기름, 후추로 만든 소스에 적어도 15분 동안 재워주세요. 그런 다음 팬에 볶거나 오븐에 구워 갈색으로 익히세요.\n",
      "\n",
      "2. **계란**: 계란을 생략하거나 스크램블 두부나 식물성 계란 대체품으로 대체할 수 있습니다.\n",
      "\n",
      "3. **간장**: 소금간 대신 글루텐프리 대체품인 타마리나 액상 아미노산을 사용하세요.\n",
      "\n",
      "4. **고추장**: 재료 목록을 확인하여 고추장에 어류 소스나 다른 비 채식주의 재료가 포함되어 있는지 확인하세요. 채식주의자나 비건용 고추장을 찾거나 비슷한 맛을 위해 미소 페이스트와 한국 고추가루의 혼합물로 대체하세요.\n",
      "\n",
      "이러한 간단한 재료 교체로 전통적인 한국 요리의 맛을 살리면서 맛있는 채식주의자용 비빔밥을 즐길 수 있습니다. 고기 없는 비빔밥을 즐기세요!"
     ]
    },
    {
     "data": {
      "text/plain": [
       "AIMessage(content='채식주의자용 비빔밥 레시피를 만들기 위해 몇 가지 재료를 대체할 수 있습니다:\\n\\n1. **소고기**: 소고기 대신 마리네이트된 두부나 템페를 사용할 수 있습니다. 두부나 템페를 얇게 썰어 소금간, 참기름, 후추로 만든 소스에 적어도 15분 동안 재워주세요. 그런 다음 팬에 볶거나 오븐에 구워 갈색으로 익히세요.\\n\\n2. **계란**: 계란을 생략하거나 스크램블 두부나 식물성 계란 대체품으로 대체할 수 있습니다.\\n\\n3. **간장**: 소금간 대신 글루텐프리 대체품인 타마리나 액상 아미노산을 사용하세요.\\n\\n4. **고추장**: 재료 목록을 확인하여 고추장에 어류 소스나 다른 비 채식주의 재료가 포함되어 있는지 확인하세요. 채식주의자나 비건용 고추장을 찾거나 비슷한 맛을 위해 미소 페이스트와 한국 고추가루의 혼합물로 대체하세요.\\n\\n이러한 간단한 재료 교체로 전통적인 한국 요리의 맛을 살리면서 맛있는 채식주의자용 비빔밥을 즐길 수 있습니다. 고기 없는 비빔밥을 즐기세요!', response_metadata={'finish_reason': 'stop'}, id='run-cca87773-b914-44ad-97c0-a6df9fb5e499-0')"
      ]
     },
     "execution_count": 12,
     "metadata": {},
     "output_type": "execute_result"
    }
   ],
   "source": [
    "final_chain.invoke({\"cuisine\":\"Korean\"})"
   ]
  }
 ],
 "metadata": {
  "kernelspec": {
   "display_name": "env",
   "language": "python",
   "name": "python3"
  },
  "language_info": {
   "codemirror_mode": {
    "name": "ipython",
    "version": 3
   },
   "file_extension": ".py",
   "mimetype": "text/x-python",
   "name": "python",
   "nbconvert_exporter": "python",
   "pygments_lexer": "ipython3",
   "version": "3.12.4"
  }
 },
 "nbformat": 4,
 "nbformat_minor": 2
}
